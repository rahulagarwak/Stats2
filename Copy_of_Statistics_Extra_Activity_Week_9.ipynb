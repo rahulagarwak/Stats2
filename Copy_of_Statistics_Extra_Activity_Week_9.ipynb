{
  "nbformat": 4,
  "nbformat_minor": 0,
  "metadata": {
    "colab": {
      "name": "Copy of Statistics Extra Activity Week 9.ipynb",
      "provenance": [],
      "collapsed_sections": [],
      "toc_visible": true,
      "include_colab_link": true
    },
    "kernelspec": {
      "name": "python3",
      "display_name": "Python 3"
    }
  },
  "cells": [
    {
      "cell_type": "markdown",
      "metadata": {
        "id": "view-in-github",
        "colab_type": "text"
      },
      "source": [
        "<a href=\"https://colab.research.google.com/github/rahulagarwak/Stats2/blob/main/Copy_of_Statistics_Extra_Activity_Week_9.ipynb\" target=\"_parent\"><img src=\"https://colab.research.google.com/assets/colab-badge.svg\" alt=\"Open In Colab\"/></a>"
      ]
    },
    {
      "cell_type": "markdown",
      "metadata": {
        "id": "DFVYyoMKKj7i"
      },
      "source": [
        "# Probability in Python"
      ]
    },
    {
      "cell_type": "markdown",
      "metadata": {
        "id": "yQnPw68Ono8S"
      },
      "source": [
        "# Importing packages"
      ]
    },
    {
      "cell_type": "code",
      "metadata": {
        "id": "pV7_0aGuiytb"
      },
      "source": [
        "import numpy as np"
      ],
      "execution_count": null,
      "outputs": []
    },
    {
      "cell_type": "markdown",
      "metadata": {
        "id": "8t26cBgqYdR0"
      },
      "source": [
        "# Import statistics module\n",
        "We will use scipy.stats, which has several functions for statistics and probability distributions. "
      ]
    },
    {
      "cell_type": "code",
      "metadata": {
        "id": "cfuXiM6_YopX"
      },
      "source": [
        "import scipy.stats as st"
      ],
      "execution_count": null,
      "outputs": []
    },
    {
      "cell_type": "markdown",
      "metadata": {
        "id": "oixdxHiLXEbG"
      },
      "source": [
        "# Import pandas, matplotlib"
      ]
    },
    {
      "cell_type": "code",
      "metadata": {
        "id": "253oJrrPXJbG"
      },
      "source": [
        "import pandas as pd\n",
        "import matplotlib.pyplot as plt"
      ],
      "execution_count": null,
      "outputs": []
    },
    {
      "cell_type": "markdown",
      "metadata": {
        "id": "_Fva8lrNdOjr"
      },
      "source": [
        "# Fitting a distribution and estimating parameters\n",
        "To fit the Normal Distribution I will be using Iris Dataset to approximate the normal distribution for Sepal Length of ***Iris-Setosa*** class of plant."
      ]
    },
    {
      "cell_type": "code",
      "metadata": {
        "id": "qjbHcHcvBYKn"
      },
      "source": [
        "from sklearn.datasets import load_iris\n",
        "iris = load_iris()"
      ],
      "execution_count": null,
      "outputs": []
    },
    {
      "cell_type": "code",
      "metadata": {
        "colab": {
          "base_uri": "https://localhost:8080/",
          "height": 299
        },
        "id": "MqvMJMfLCAoO",
        "outputId": "f8710227-805b-435a-ffb6-66012c1db1b8"
      },
      "source": [
        "plt.hist(iris.data[:50,0], density = True)\n",
        "plt.xlim([0,6])\n",
        "plt.title('Sepal Length- Iris-Setosa')"
      ],
      "execution_count": null,
      "outputs": [
        {
          "output_type": "execute_result",
          "data": {
            "text/plain": [
              "Text(0.5, 1.0, 'Sepal Length- Iris-Setosa')"
            ]
          },
          "metadata": {
            "tags": []
          },
          "execution_count": 7
        },
        {
          "output_type": "display_data",
          "data": {
            "image/png": "[encoded data removed]",
            "text/plain": [
              "<Figure size 432x288 with 1 Axes>"
            ]
          },
          "metadata": {
            "tags": [],
            "needs_background": "light"
          }
        }
      ]
    },
    {
      "cell_type": "markdown",
      "metadata": {
        "id": "OJl42U8sds9o"
      },
      "source": [
        "We see that there are 3935 samples of data. To get a sense of the distribution, we should plot a histogram."
      ]
    },
    {
      "cell_type": "markdown",
      "metadata": {
        "id": "JZpmyV0eezlU"
      },
      "source": [
        "# Fitting a Normal distribution\n",
        "From the histogram, the distribution could be modelled as Normal$(\\mu,\\sigma^2)$. The next step is to estimate $\\mu$ and $\\sigma$ from the given samples.\n",
        "\n",
        "## Method of moments\n",
        "Suppose $m_1$ and $m_2$ are the first and second moments of the samples. The method of moments estimates are obtained by solving\n",
        "$$m_1= E[X] =\\mu,$$\n",
        "$$m_2= E[X^2] = \\mu^2 + \\sigma^2.$$\n",
        "\n",
        "The solution results in\n",
        "$$\\hat{\\mu}_{MM}=M_1=\\frac{X_1+...+X_n}{n}.$$\n",
        "$$\\hat{\\sigma}_{MM}=\\sqrt{\\frac{X_1^2+...+X_n^2}{n}-\\frac{(X_1+...+X_n)^2}{n^2}}$$\n",
        "\n",
        "We now compute the values of $m_1$ (sample mean) and $s^2=m_2-m_1^2$ (sample variance) from the data. After that, we can compute the estimates."
      ]
    },
    {
      "cell_type": "code",
      "metadata": {
        "colab": {
          "base_uri": "https://localhost:8080/"
        },
        "id": "UBtNJU6gjB23",
        "outputId": "0e8cd616-33af-48d4-d1d0-df1bbe21581a"
      },
      "source": [
        "x = iris.data[:50,0]\n",
        "m1 = np.average(x)\n",
        "print(m1)"
      ],
      "execution_count": null,
      "outputs": [
        {
          "output_type": "stream",
          "text": [
            "5.006\n"
          ],
          "name": "stdout"
        }
      ]
    },
    {
      "cell_type": "code",
      "metadata": {
        "colab": {
          "base_uri": "https://localhost:8080/"
        },
        "id": "Qdmlr7evlD9R",
        "outputId": "1531b9f0-5bc1-47a0-aa97-187864830690"
      },
      "source": [
        "muMM = m1\n",
        "n = x.size\n",
        "sigmaMM = np.sqrt(np.sum(x*x)/(n) - muMM**2)\n",
        "print(muMM)\n",
        "print(sigmaMM)"
      ],
      "execution_count": null,
      "outputs": [
        {
          "output_type": "stream",
          "text": [
            "5.006\n",
            "0.3489469873777324\n"
          ],
          "name": "stdout"
        }
      ]
    },
    {
      "cell_type": "markdown",
      "metadata": {
        "id": "ZLZ853v0nr66"
      },
      "source": [
        "We can plot the density of the Normal Distribution on top of the density histogram to check if the estimate gives a reasonable fit."
      ]
    },
    {
      "cell_type": "code",
      "metadata": {
        "colab": {
          "base_uri": "https://localhost:8080/",
          "height": 265
        },
        "id": "wEDEdu7mn21C",
        "outputId": "e04a71d9-3265-40dd-d5e3-59236424b9eb"
      },
      "source": [
        "fig,ax = plt.subplots(1,1)\n",
        "ax.hist(x,density=True)\n",
        "xx = np.linspace(4,6,50)\n",
        "ax.plot(xx, st.norm.pdf(xx,muMM,scale=sigmaMM),label='Normal fit MM')\n",
        "ax.legend(loc='best')\n",
        "plt.show()"
      ],
      "execution_count": null,
      "outputs": [
        {
          "output_type": "display_data",
          "data": {
            "image/png": "[encoded data removed]",
            "text/plain": [
              "<Figure size 432x288 with 1 Axes>"
            ]
          },
          "metadata": {
            "tags": [],
            "needs_background": "light"
          }
        }
      ]
    },
    {
      "cell_type": "markdown",
      "metadata": {
        "id": "USKGGSPkqXuH"
      },
      "source": [
        "# Bootstrap\n",
        "How do we find the bias and variance of the estimator? Theoretical derivations of the sampling distributions may be too cumbersome and difficult in most cases. Bootstrap is a Monte Carlo simulation method for computing metrics such as bias, variance and confidence intervals for estimators.\n",
        "\n",
        "In the above example, we have found $\\hat{\\mu}_{MM}=5.006...$ and $\\hat{\\sigma}_{MM}=0.34894...$. Using these values, we simulate $n=50$ *iid* samples from Normal$(5.006...,0.34894...)$ and, using the simulated samples, we compute new estimates of $\\mu$ and $\\sigma$ and call them $\\hat{\\mu}_{MM}(1)$ and $\\hat{\\sigma}_{MM}(1)$. Now, repeat the simulation $N$ times to get estimates $\\hat{\\mu}_{MM}(i)$ and $\\hat{\\sigma}_{MM}(i)$, $i=1,2,\\ldots,N$.\n",
        "\n",
        "The sample variance of $\\{\\hat{\\mu}_{MM}(1), \\hat{\\mu}_{MM}(2),\\ldots,\\hat{\\mu}_{MM}(N)\\}$ is taken to be the bootstrap estimate for the variance of the estimator."
      ]
    },
    {
      "cell_type": "code",
      "metadata": {
        "id": "NOezpMTR1K3U"
      },
      "source": [
        "N = 1000\n",
        "n = 50\n",
        "mu_hat = np.zeros(N)\n",
        "sigma_hat = np.zeros(N)\n",
        "for i in np.arange(N):\n",
        "  xi = st.norm.rvs(muMM,scale=sigmaMM,size=n)\n",
        "  m1i = np.average(xi); ssi = np.var(xi)\n",
        "  mu_hat[i] = m1i; sigma_hat[i] = np.sqrt(np.sum(xi**2)/(n) - m1i**2)"
      ],
      "execution_count": null,
      "outputs": []
    },
    {
      "cell_type": "markdown",
      "metadata": {
        "id": "C8iJSHwo4xFl"
      },
      "source": [
        "We can see the histograms of the estimates to get an idea of the spread of the values."
      ]
    },
    {
      "cell_type": "code",
      "metadata": {
        "colab": {
          "base_uri": "https://localhost:8080/",
          "height": 373
        },
        "id": "LhBsFxOs5Uco",
        "outputId": "89768982-60d6-4a22-bae8-0714e0975087"
      },
      "source": [
        "ax1 = plt.subplot(121)\n",
        "ax1.hist(mu_hat,density=True)\n",
        "ax2 = plt.subplot(122)\n",
        "ax2.hist(sigma_hat,density=True)"
      ],
      "execution_count": null,
      "outputs": [
        {
          "output_type": "execute_result",
          "data": {
            "text/plain": [
              "(array([ 0.37573944,  2.01959948,  5.68305899,  8.82987678, 10.6146391 ,\n",
              "         8.73594192,  6.66937501,  2.95894807,  0.89238116,  0.18786972]),\n",
              " array([0.24347696, 0.26476831, 0.28605966, 0.30735101, 0.32864236,\n",
              "        0.34993371, 0.37122506, 0.39251641, 0.41380776, 0.43509911,\n",
              "        0.45639046]),\n",
              " <a list of 10 Patch objects>)"
            ]
          },
          "metadata": {
            "tags": []
          },
          "execution_count": 12
        },
        {
          "output_type": "display_data",
          "data": {
            "image/png": "[encoded data removed]",
            "text/plain": [
              "<Figure size 432x288 with 2 Axes>"
            ]
          },
          "metadata": {
            "tags": [],
            "needs_background": "light"
          }
        }
      ]
    },
    {
      "cell_type": "markdown",
      "metadata": {
        "id": "hr_MYGs02xiP"
      },
      "source": [
        "The histograms look roughly normal.\n",
        "\n",
        "The sample standard deviations of the estimates is a bootstrap estimate for the standard error of the estimator."
      ]
    },
    {
      "cell_type": "code",
      "metadata": {
        "colab": {
          "base_uri": "https://localhost:8080/"
        },
        "id": "zePWrNkj2gYb",
        "outputId": "c1feb050-97ef-4bf9-b84e-3ba982cdca21"
      },
      "source": [
        "print(np.sqrt(np.var(mu_hat)))\n",
        "print(np.sqrt(np.var(sigma_hat)))"
      ],
      "execution_count": null,
      "outputs": [
        {
          "output_type": "stream",
          "text": [
            "0.04831783891432329\n",
            "0.03586425878323327\n"
          ],
          "name": "stdout"
        }
      ]
    },
    {
      "cell_type": "markdown",
      "metadata": {
        "id": "eMyCTvb-7I-r"
      },
      "source": [
        "## Confidence intervals\n",
        "Suppose a parameter $\\theta$ is estimated as $\\hat{\\theta}$, and suppose the distribution of $\\hat{\\theta}-\\theta$ is known. Then, to obtain $(100(1-\\alpha))$% confidence intervals (typical values are $\\alpha=0.1$ for 90% confidence intervals and $\\alpha=0.05$ for 95% confidence intervals), we use the CDF of $\\hat{\\theta}-\\theta$ to obtain $\\delta_1$ and $\\delta_2$ such that\n",
        "$$P(\\hat{\\theta}-\\theta\\le\\delta_1)=1-\\frac{\\alpha}{2},$$\n",
        "$$P(\\hat{\\theta}-\\theta\\le\\delta_2)=\\frac{\\alpha}{2}.$$\n",
        "Actually, the inverse of the CDF of $\\hat{\\theta}-\\theta$ is used to find the above $\\delta_1$ and $\\delta_2$. From the above, we see that\n",
        "$$P(\\hat{\\theta}-\\theta \\le \\delta_1)-P(\\hat{\\theta}-\\theta \\le \\delta_2)= P(\\delta_2< \\hat{\\theta}-\\theta \\le \\delta_1)=1-\\frac{\\alpha}{2}-\\frac{\\alpha}{2}=1-\\alpha.$$\n",
        "The above is rewritten as\n",
        "$$P(\\hat{\\theta}-\\delta_1\\le\\theta<\\hat{\\theta}-\\delta_2)=1-\\alpha,$$\n",
        "and $[\\hat{\\theta}-\\delta_1,\\hat{\\theta}-\\delta_2]$ is interpreted as the $100(1-\\alpha)$% confidence interval.\n",
        "\n",
        "## Bootstrap confidence intervals\n",
        "The CDF of $\\hat{\\theta}-\\theta$ might be difficult to determine in many cases, and the bootstrap method is used often to estimate $\\delta_1$ and $\\delta_2$. We consider the list of numbers $\\{\\hat{\\mu}_{MM}(1)-5.006...,\\ldots,\\hat{\\mu}_{MM}(N)-5.006...\\}$ and pick the $100(\\alpha/2)$-th percentile and $100(1-\\alpha/2)$-th percentile."
      ]
    },
    {
      "cell_type": "code",
      "metadata": {
        "colab": {
          "base_uri": "https://localhost:8080/"
        },
        "id": "_ZbTUlDjggDZ",
        "outputId": "e3486ca8-a0a2-4545-da4c-0abbd6493c9e"
      },
      "source": [
        "del1 = np.percentile(mu_hat - muMM, 97.5)\n",
        "del2 = np.percentile(mu_hat - muMM, 2.5)\n",
        "print([del1,del2])"
      ],
      "execution_count": null,
      "outputs": [
        {
          "output_type": "stream",
          "text": [
            "[0.0963582854047092, -0.09869322625374674]\n"
          ],
          "name": "stdout"
        }
      ]
    },
    {
      "cell_type": "markdown",
      "metadata": {
        "id": "wPVrUEyxlJxO"
      },
      "source": [
        "The 95% confidence interval for $\\alpha$ using the method of moments estimator works out to $[5.006-0.08816,5.006-(-0.09467)]=[4.91784,5.10067]$."
      ]
    },
    {
      "cell_type": "markdown",
      "metadata": {
        "id": "UC8o_-D7x9AE"
      },
      "source": [
        "## Maximum likelihood\n",
        "We now turn to the maximum likelihood estimator for $\\alpha$ and $\\beta$. The likelihood $L(x_1,\\ldots,x_n)$ can be written as\n",
        "$$L = \\frac{1}{\\sqrt(2\\pi)\\sigma}e^\\frac{-(x_1-\\mu)^2}{2\\sigma^2}\\,\\cdots \\frac{1}{\\sqrt(2\\pi)\\sigma}e^\\frac{-(x_n-\\mu)^2}{2\\sigma^2}= (\\frac{1}{\\sqrt(2\\pi)\\sigma})^ne^\\frac{-1}{2\\sigma^2} \\sum_{i=0}^n{(x_n-\\mu)^2},$$\n",
        "\n",
        "$$\\log L = -n\\log\\sigma-\\frac{1}{2\\sigma^2}\\sum_{i=0}^n{(x_n-\\mu)^2}.$$\n",
        "Differentiating $\\log L$ with respect to $\\mu$ treating $\\sigma$ as constant and equating to zero, we get\n",
        "$$\\hat{\\mu}_{ML} = \\bar{X} = \\frac{x_1+\\cdots+x_n}{n} $$\n",
        "Differentiating $\\log L$ with respect to $\\sigma$ treating $\\sigma$ as constant and equating to zero, we get\n",
        "$$\\hat{\\sigma^2} = \\frac{1}{n}\\sum_{i = 1}^n(x_i-\\mu)^2.$$\n",
        "\n",
        "So we got the final solution of both the parameters."
      ]
    }
  ]
}