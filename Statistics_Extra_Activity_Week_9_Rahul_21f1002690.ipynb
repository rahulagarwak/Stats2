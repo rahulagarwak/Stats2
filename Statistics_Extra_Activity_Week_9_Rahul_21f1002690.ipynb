{
  "nbformat": 4,
  "nbformat_minor": 0,
  "metadata": {
    "colab": {
      "name": "Copy of Statistics Extra Activity Week 9.ipynb",
      "provenance": [],
      "collapsed_sections": [],
      "include_colab_link": true
    },
    "kernelspec": {
      "name": "python3",
      "display_name": "Python 3"
    }
  },
  "cells": [
    {
      "cell_type": "markdown",
      "metadata": {
        "id": "view-in-github",
        "colab_type": "text"
      },
      "source": [
        "<a href=\"https://colab.research.google.com/github/rahulagarwak/Stats2/blob/main/Statistics_Extra_Activity_Week_9_Rahul_21f1002690.ipynb\" target=\"_parent\"><img src=\"https://colab.research.google.com/assets/colab-badge.svg\" alt=\"Open In Colab\"/></a>"
      ]
    },
    {
      "cell_type": "markdown",
      "metadata": {
        "id": "DFVYyoMKKj7i"
      },
      "source": [
        "# Probability in Python"
      ]
    },
    {
      "cell_type": "markdown",
      "metadata": {
        "id": "yQnPw68Ono8S"
      },
      "source": [
        "# Importing packages"
      ]
    },
    {
      "cell_type": "code",
      "metadata": {
        "id": "pV7_0aGuiytb"
      },
      "source": [
        "import numpy as np"
      ],
      "execution_count": 2,
      "outputs": []
    },
    {
      "cell_type": "markdown",
      "metadata": {
        "id": "8t26cBgqYdR0"
      },
      "source": [
        "# Import statistics module\n",
        "We will use scipy.stats, which has several functions for statistics and probability distributions. "
      ]
    },
    {
      "cell_type": "code",
      "metadata": {
        "id": "cfuXiM6_YopX"
      },
      "source": [
        "import scipy.stats as st"
      ],
      "execution_count": 3,
      "outputs": []
    },
    {
      "cell_type": "markdown",
      "metadata": {
        "id": "oixdxHiLXEbG"
      },
      "source": [
        "# Import pandas, matplotlib"
      ]
    },
    {
      "cell_type": "code",
      "metadata": {
        "id": "253oJrrPXJbG"
      },
      "source": [
        "import pandas as pd\n",
        "import matplotlib.pyplot as plt"
      ],
      "execution_count": 4,
      "outputs": []
    },
    {
      "cell_type": "markdown",
      "metadata": {
        "id": "_Fva8lrNdOjr"
      },
      "source": [
        "# Fitting a distribution and estimating parameters\n",
        "To fit the Normal Distribution I will be using Iris Dataset to approximate the normal distribution for Sepal Length of ***Iris-Setosa*** class of plant."
      ]
    },
    {
      "cell_type": "code",
      "metadata": {
        "id": "qjbHcHcvBYKn"
      },
      "source": [
        "from sklearn.datasets import load_iris\n",
        "iris = load_iris()"
      ],
      "execution_count": 5,
      "outputs": []
    },
    {
      "cell_type": "code",
      "metadata": {
        "colab": {
          "base_uri": "https://localhost:8080/",
          "height": 298
        },
        "id": "MqvMJMfLCAoO",
        "outputId": "b9bf31b9-f100-4175-b48b-5902b1edacaa"
      },
      "source": [
        "plt.hist(iris.data[:50,0], density = True)\n",
        "plt.xlim([0,6])\n",
        "plt.title('Sepal Length- Iris-Setosa')"
      ],
      "execution_count": 6,
      "outputs": [
        {
          "output_type": "execute_result",
          "data": {
            "text/plain": [
              "Text(0.5, 1.0, 'Sepal Length- Iris-Setosa')"
            ]
          },
          "metadata": {
            "tags": []
          },
          "execution_count": 6
        },
        {
          "output_type": "display_data",
          "data": {
            "image/png": "[encoded data removed]",
            "text/plain": [
              "<Figure size 432x288 with 1 Axes>"
            ]
          },
          "metadata": {
            "tags": [],
            "needs_background": "light"
          }
        }
      ]
    },
    {
      "cell_type": "markdown",
      "metadata": {
        "id": "OJl42U8sds9o"
      },
      "source": [
        "We see that there are 3935 samples of data. To get a sense of the distribution, we should plot a histogram."
      ]
    },
    {
      "cell_type": "markdown",
      "metadata": {
        "id": "JZpmyV0eezlU"
      },
      "source": [
        "# Fitting a Normal distribution\n",
        "From the histogram, the distribution could be modelled as Normal$(\\mu,\\sigma^2)$. The next step is to estimate $\\mu$ and $\\sigma$ from the given samples.\n",
        "\n",
        "## Method of moments\n",
        "Suppose $m_1$ and $m_2$ are the first and second moments of the samples. The method of moments estimates are obtained by solving\n",
        "$$m_1= E[X] =\\mu,$$\n",
        "$$m_2= E[X^2] = \\mu^2 + \\sigma^2.$$\n",
        "\n",
        "The solution results in\n",
        "$$\\hat{\\mu}_{MM}=M_1=\\frac{X_1+...+X_n}{n}.$$\n",
        "$$\\hat{\\sigma}_{MM}=\\sqrt{\\frac{X_1^2+...+X_n^2}{n}-\\frac{(X_1+...+X_n)^2}{n^2}}$$\n",
        "\n",
        "We now compute the values of $m_1$ (sample mean) and $s^2=m_2-m_1^2$ (sample variance) from the data. After that, we can compute the estimates."
      ]
    },
    {
      "cell_type": "code",
      "metadata": {
        "colab": {
          "base_uri": "https://localhost:8080/"
        },
        "id": "UBtNJU6gjB23",
        "outputId": "821688ec-f66a-4f24-daf9-8c1530b673db"
      },
      "source": [
        "x = iris.data[:50,0]\n",
        "m1 = np.average(x)\n",
        "print(m1)"
      ],
      "execution_count": 7,
      "outputs": [
        {
          "output_type": "stream",
          "text": [
            "5.006\n"
          ],
          "name": "stdout"
        }
      ]
    },
    {
      "cell_type": "code",
      "metadata": {
        "colab": {
          "base_uri": "https://localhost:8080/"
        },
        "id": "Qdmlr7evlD9R",
        "outputId": "24c33866-3061-4845-be6f-30487e75f898"
      },
      "source": [
        "muMM = m1\n",
        "n = x.size\n",
        "sigmaMM = np.sqrt(np.sum(x*x)/(n) - muMM**2)\n",
        "print(muMM)\n",
        "print(sigmaMM)"
      ],
      "execution_count": 8,
      "outputs": [
        {
          "output_type": "stream",
          "text": [
            "5.006\n",
            "0.3489469873777324\n"
          ],
          "name": "stdout"
        }
      ]
    },
    {
      "cell_type": "markdown",
      "metadata": {
        "id": "ZLZ853v0nr66"
      },
      "source": [
        "We can plot the density of the Normal Distribution on top of the density histogram to check if the estimate gives a reasonable fit."
      ]
    },
    {
      "cell_type": "code",
      "metadata": {
        "colab": {
          "base_uri": "https://localhost:8080/",
          "height": 265
        },
        "id": "wEDEdu7mn21C",
        "outputId": "875853ec-a06e-4af4-d704-addfb0fe4a28"
      },
      "source": [
        "fig,ax = plt.subplots(1,1)\n",
        "ax.hist(x,density=True)\n",
        "xx = np.linspace(4,6,50)\n",
        "ax.plot(xx, st.norm.pdf(xx,muMM,scale=sigmaMM),label='Normal fit MM')\n",
        "ax.legend(loc='best')\n",
        "plt.show()"
      ],
      "execution_count": 9,
      "outputs": [
        {
          "output_type": "display_data",
          "data": {
            "image/png": "[encoded data removed]",
            "text/plain": [
              "<Figure size 432x288 with 1 Axes>"
            ]
          },
          "metadata": {
            "tags": [],
            "needs_background": "light"
          }
        }
      ]
    },
    {
      "cell_type": "markdown",
      "metadata": {
        "id": "USKGGSPkqXuH"
      },
      "source": [
        "# Bootstrap\n",
        "How do we find the bias and variance of the estimator? Theoretical derivations of the sampling distributions may be too cumbersome and difficult in most cases. Bootstrap is a Monte Carlo simulation method for computing metrics such as bias, variance and confidence intervals for estimators.\n",
        "\n",
        "In the above example, we have found $\\hat{\\mu}_{MM}=5.006...$ and $\\hat{\\sigma}_{MM}=0.34894...$. Using these values, we simulate $n=50$ *iid* samples from Normal$(5.006...,0.34894...)$ and, using the simulated samples, we compute new estimates of $\\mu$ and $\\sigma$ and call them $\\hat{\\mu}_{MM}(1)$ and $\\hat{\\sigma}_{MM}(1)$. Now, repeat the simulation $N$ times to get estimates $\\hat{\\mu}_{MM}(i)$ and $\\hat{\\sigma}_{MM}(i)$, $i=1,2,\\ldots,N$.\n",
        "\n",
        "The sample variance of $\\{\\hat{\\mu}_{MM}(1), \\hat{\\mu}_{MM}(2),\\ldots,\\hat{\\mu}_{MM}(N)\\}$ is taken to be the bootstrap estimate for the variance of the estimator."
      ]
    },
    {
      "cell_type": "code",
      "metadata": {
        "id": "NOezpMTR1K3U"
      },
      "source": [
        "N = 1000\n",
        "n = 50\n",
        "mu_hat = np.zeros(N)\n",
        "sigma_hat = np.zeros(N)\n",
        "for i in np.arange(N):\n",
        "  xi = st.norm.rvs(muMM,scale=sigmaMM,size=n)\n",
        "  m1i = np.average(xi); ssi = np.var(xi)\n",
        "  mu_hat[i] = m1i; sigma_hat[i] = np.sqrt(np.sum(xi**2)/(n) - m1i**2)"
      ],
      "execution_count": 10,
      "outputs": []
    },
    {
      "cell_type": "markdown",
      "metadata": {
        "id": "C8iJSHwo4xFl"
      },
      "source": [
        "We can see the histograms of the estimates to get an idea of the spread of the values."
      ]
    },
    {
      "cell_type": "code",
      "metadata": {
        "colab": {
          "base_uri": "https://localhost:8080/",
          "height": 367
        },
        "id": "LhBsFxOs5Uco",
        "outputId": "d96ce742-dd94-443f-be41-d5c3c58f91c1"
      },
      "source": [
        "ax1 = plt.subplot(121)\n",
        "ax1.hist(mu_hat,density=True)\n",
        "ax2 = plt.subplot(122)\n",
        "ax2.hist(sigma_hat,density=True)"
      ],
      "execution_count": 11,
      "outputs": [
        {
          "output_type": "execute_result",
          "data": {
            "text/plain": [
              "(array([ 0.25695986,  1.58458582,  4.15418446,  9.37903501, 11.60602049,\n",
              "         8.35119556,  4.66810418,  2.14133219,  0.51391973,  0.17130658]),\n",
              " array([0.23544927, 0.25879922, 0.28214917, 0.30549912, 0.32884907,\n",
              "        0.35219902, 0.37554897, 0.39889892, 0.42224887, 0.44559882,\n",
              "        0.46894877]),\n",
              " <a list of 10 Patch objects>)"
            ]
          },
          "metadata": {
            "tags": []
          },
          "execution_count": 11
        },
        {
          "output_type": "display_data",
          "data": {
            "image/png": "[encoded data removed]",
            "text/plain": [
              "<Figure size 432x288 with 2 Axes>"
            ]
          },
          "metadata": {
            "tags": [],
            "needs_background": "light"
          }
        }
      ]
    },
    {
      "cell_type": "markdown",
      "metadata": {
        "id": "hr_MYGs02xiP"
      },
      "source": [
        "The histograms look roughly normal.\n",
        "\n",
        "The sample standard deviations of the estimates is a bootstrap estimate for the standard error of the estimator."
      ]
    },
    {
      "cell_type": "code",
      "metadata": {
        "colab": {
          "base_uri": "https://localhost:8080/"
        },
        "id": "zePWrNkj2gYb",
        "outputId": "668a02e9-59f1-4e4d-bea0-9aff66b94256"
      },
      "source": [
        "print(np.sqrt(np.var(mu_hat)))\n",
        "print(np.sqrt(np.var(sigma_hat)))"
      ],
      "execution_count": 12,
      "outputs": [
        {
          "output_type": "stream",
          "text": [
            "0.04897069034514343\n",
            "0.035351454722868034\n"
          ],
          "name": "stdout"
        }
      ]
    },
    {
      "cell_type": "markdown",
      "metadata": {
        "id": "eMyCTvb-7I-r"
      },
      "source": [
        "## Confidence intervals\n",
        "Suppose a parameter $\\theta$ is estimated as $\\hat{\\theta}$, and suppose the distribution of $\\hat{\\theta}-\\theta$ is known. Then, to obtain $(100(1-\\alpha))$% confidence intervals (typical values are $\\alpha=0.1$ for 90% confidence intervals and $\\alpha=0.05$ for 95% confidence intervals), we use the CDF of $\\hat{\\theta}-\\theta$ to obtain $\\delta_1$ and $\\delta_2$ such that\n",
        "$$P(\\hat{\\theta}-\\theta\\le\\delta_1)=1-\\frac{\\alpha}{2},$$\n",
        "$$P(\\hat{\\theta}-\\theta\\le\\delta_2)=\\frac{\\alpha}{2}.$$\n",
        "Actually, the inverse of the CDF of $\\hat{\\theta}-\\theta$ is used to find the above $\\delta_1$ and $\\delta_2$. From the above, we see that\n",
        "$$P(\\hat{\\theta}-\\theta \\le \\delta_1)-P(\\hat{\\theta}-\\theta \\le \\delta_2)= P(\\delta_2< \\hat{\\theta}-\\theta \\le \\delta_1)=1-\\frac{\\alpha}{2}-\\frac{\\alpha}{2}=1-\\alpha.$$\n",
        "The above is rewritten as\n",
        "$$P(\\hat{\\theta}-\\delta_1\\le\\theta<\\hat{\\theta}-\\delta_2)=1-\\alpha,$$\n",
        "and $[\\hat{\\theta}-\\delta_1,\\hat{\\theta}-\\delta_2]$ is interpreted as the $100(1-\\alpha)$% confidence interval.\n",
        "\n",
        "## Bootstrap confidence intervals\n",
        "The CDF of $\\hat{\\theta}-\\theta$ might be difficult to determine in many cases, and the bootstrap method is used often to estimate $\\delta_1$ and $\\delta_2$. We consider the list of numbers $\\{\\hat{\\mu}_{MM}(1)-5.006...,\\ldots,\\hat{\\mu}_{MM}(N)-5.006...\\}$ and pick the $100(\\alpha/2)$-th percentile and $100(1-\\alpha/2)$-th percentile."
      ]
    },
    {
      "cell_type": "code",
      "metadata": {
        "colab": {
          "base_uri": "https://localhost:8080/"
        },
        "id": "_ZbTUlDjggDZ",
        "outputId": "7738bade-978e-44a2-ae02-36b9b3941082"
      },
      "source": [
        "del1 = np.percentile(mu_hat - muMM, 97.5)\n",
        "del2 = np.percentile(mu_hat - muMM, 2.5)\n",
        "print([del1,del2])"
      ],
      "execution_count": 13,
      "outputs": [
        {
          "output_type": "stream",
          "text": [
            "[0.09529830806485419, -0.09717270493674324]\n"
          ],
          "name": "stdout"
        }
      ]
    },
    {
      "cell_type": "markdown",
      "metadata": {
        "id": "wPVrUEyxlJxO"
      },
      "source": [
        "The 95% confidence interval for $\\alpha$ using the method of moments estimator works out to $[5.006-0.08816,5.006-(-0.09467)]=[4.91784,5.10067]$."
      ]
    },
    {
      "cell_type": "markdown",
      "metadata": {
        "id": "UC8o_-D7x9AE"
      },
      "source": [
        "## Maximum likelihood\n",
        "We now turn to the maximum likelihood estimator for $\\alpha$ and $\\beta$. The likelihood $L(x_1,\\ldots,x_n)$ can be written as\n",
        "$$L = \\frac{1}{\\sqrt(2\\pi)\\sigma}e^\\frac{-(x_1-\\mu)^2}{2\\sigma^2}\\,\\cdots \\frac{1}{\\sqrt(2\\pi)\\sigma}e^\\frac{-(x_n-\\mu)^2}{2\\sigma^2}= (\\frac{1}{\\sqrt(2\\pi)\\sigma})^ne^\\frac{-1}{2\\sigma^2} \\sum_{i=0}^n{(x_n-\\mu)^2},$$\n",
        "\n",
        "$$\\log L = -n\\log\\sigma-\\frac{1}{2\\sigma^2}\\sum_{i=0}^n{(x_n-\\mu)^2}.$$\n",
        "Differentiating $\\log L$ with respect to $\\mu$ treating $\\sigma$ as constant and equating to zero, we get\n",
        "$$\\hat{\\mu}_{ML} = \\bar{X} = \\frac{x_1+\\cdots+x_n}{n} $$\n",
        "Differentiating $\\log L$ with respect to $\\sigma$ treating $\\mu$ as constant and equating to zero, we get\n",
        "$$\\hat{\\sigma^2} = \\frac{1}{n}\\sum_{i = 1}^n(x_i-\\mu)^2.$$\n",
        "\n",
        "So we got the final solution of both the parameters."
      ]
    },
    {
      "cell_type": "code",
      "metadata": {
        "colab": {
          "base_uri": "https://localhost:8080/"
        },
        "id": "ByiWc47yeb8Q",
        "outputId": "b9a20f8a-2e70-49a0-e3bf-8484d969b92d"
      },
      "source": [
        "muML = np.average(x)\n",
        "s_caret_sqrt = np.sqrt(np.sum(np.square(x-muML))/n)\n",
        "print(muML)\n",
        "print(s_caret_sqrt)"
      ],
      "execution_count": 22,
      "outputs": [
        {
          "output_type": "stream",
          "text": [
            "5.006\n",
            "0.3489469873777391\n"
          ],
          "name": "stdout"
        }
      ]
    },
    {
      "cell_type": "code",
      "metadata": {
        "colab": {
          "base_uri": "https://localhost:8080/",
          "height": 265
        },
        "id": "4mNBBn7LlOmZ",
        "outputId": "836350b8-08a6-48db-9f47-75f3d52da9ec"
      },
      "source": [
        "fig,ax = plt.subplots(1,1)\n",
        "#ax.hist(x,density=True)\n",
        "xx = np.linspace(4,6,50)\n",
        "ax.plot(xx, st.norm.pdf(xx,muML,scale=s_caret_sqrt),label='Normal fit ML')\n",
        "ax.legend(loc='best')\n",
        "plt.show()"
      ],
      "execution_count": 24,
      "outputs": [
        {
          "output_type": "display_data",
          "data": {
            "image/png": "[encoded data removed]",
            "text/plain": [
              "<Figure size 432x288 with 1 Axes>"
            ]
          },
          "metadata": {
            "tags": [],
            "needs_background": "light"
          }
        }
      ]
    }
  ]
}